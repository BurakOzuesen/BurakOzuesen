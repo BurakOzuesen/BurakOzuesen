{
 "cells": [
  {
   "cell_type": "markdown",
   "metadata": {},
   "source": [
    "<center>\n",
    "    <img src=\"https://cf-courses-data.s3.us.cloud-object-storage.appdomain.cloud/IBMDeveloperSkillsNetwork-DS0105EN-SkillsNetwork/labs/Module2/images/SN_web_lightmode.png\" width=\"300\" alt=\"cognitiveclass.ai logo\">\n",
    "</center>\n"
   ]
  },
  {
   "cell_type": "markdown",
   "metadata": {},
   "source": [
    "#### Add your code below following the instructions given in the course\n"
   ]
  },
  {
   "cell_type": "markdown",
   "metadata": {},
   "source": [
    "# Title"
   ]
  },
  {
   "cell_type": "markdown",
   "metadata": {
    "tags": []
   },
   "source": [
    "### Name: Peer-graded_Assignment_Submitting_My_Work\n"
   ]
  },
  {
   "cell_type": "markdown",
   "metadata": {},
   "source": [
    "#### Languages\n",
    "\n",
    "Some of the popular languages that Data Scientists use are:\n",
    "\n",
    "Python.\n",
    "R.\n",
    "SQL.\n",
    "Java.\n",
    "Julia.\n",
    "Scala.\n",
    "C/C++.\n",
    "JavaScript."
   ]
  },
  {
   "cell_type": "markdown",
   "metadata": {
    "tags": []
   },
   "source": [
    "#### Some of the popular libraries\n",
    "\n",
    "TensorFlow.\n",
    "NumPy.\n",
    "SciPy.\n",
    "Pandas.\n",
    "Matplotlib.\n",
    "Keras.\n",
    "SciKit-Learn.\n",
    "PyTorch."
   ]
  },
  {
   "cell_type": "markdown",
   "metadata": {},
   "source": [
    "| Tool          | Description                                             |\n",
    "|---------------|---------------------------------------------------------|\n",
    "| Python        | A versatile programming language commonly used for data analysis, machine learning, and scientific computing.           |\n",
    "| R             | A programming language and environment primarily used for statistical analysis and graphics.                              |\n",
    "| Jupyter Notebook | An open-source web application that allows you to create and share documents containing live code, equations, visualizations, and narrative text. |\n",
    "| Pandas        | A powerful Python library for data manipulation and analysis, particularly useful for working with structured data.       |\n",
    "| NumPy         | A fundamental package for scientific computing with Python, providing support for multi-dimensional arrays and matrices.  |\n",
    "| SciPy         | An open-source library for mathematics, science, and engineering that builds on NumPy arrays, providing many user-friendly and efficient numerical routines. |\n",
    "| Matplotlib    | A comprehensive library for creating static, animated, and interactive visualizations in Python.                           |\n",
    "| Seaborn       | A statistical data visualization library based on Matplotlib, providing a high-level interface for drawing attractive and informative statistical graphics. |\n",
    "| Scikit-learn  | A machine learning library for Python that provides simple and efficient tools for data mining and data analysis.         |\n",
    "| TensorFlow    | An open-source machine learning framework developed by Google for building and training neural networks.                  |\n",
    "| Keras         | An open-source neural network library written in Python that serves as an interface to TensorFlow, enabling fast experimentation with deep neural networks. |\n",
    "| PyTorch       | An open-source machine learning library developed by Facebook's AI Research lab, known for its flexibility and ease of use. |\n",
    "| Spark         | A fast and general-purpose distributed computing system for big data processing, providing APIs for various programming languages including Python and Scala. |\n",
    "| SQL           | Structured Query Language, used for managing and querying relational databases, often employed in data analysis and manipulation tasks. |\n"
   ]
  },
  {
   "cell_type": "markdown",
   "metadata": {},
   "source": [
    "## Arithmetic Expression Examples\n",
    "\n",
    "Arithmetic expressions involve mathematical operations such as addition, subtraction, multiplication, and division. They are fundamental in mathematics and often used in programming for various calculations. Below are some examples of arithmetic expressions:\n",
    "\n",
    "1. **Addition**: Adding two numbers together.\n"
   ]
  },
  {
   "cell_type": "markdown",
   "metadata": {
    "tags": []
   },
   "source": [
    "\n",
    "2. **Subtraction**: Finding the difference between two numbers.\n"
   ]
  },
  {
   "cell_type": "markdown",
   "metadata": {},
   "source": [
    "\n",
    "3. **Multiplication**: Multiplying two numbers.\n",
    "\n",
    "4. **Division**: Dividing one number by another.\n",
    "\n",
    "6. **Mixed Operations**: Combining different operations in one expression.\n",
    "\n",
    "Arithmetic expressions can be simple or complex, but they follow the basic principles of arithmetic operations and the order of operations (PEMDAS/BODMAS).\n"
   ]
  },
  {
   "cell_type": "code",
   "execution_count": 5,
   "metadata": {
    "tags": []
   },
   "outputs": [
    {
     "name": "stdout",
     "output_type": "stream",
     "text": [
      "Result of multiplication: 15\n",
      "Result of addition: 8\n"
     ]
    }
   ],
   "source": [
    "# Define two numbers\n",
    "number1 = 5\n",
    "number2 = 3\n",
    "\n",
    "# Multiply the numbers\n",
    "result_multiply = number1 * number2\n",
    "print(\"Result of multiplication:\", result_multiply)\n",
    "\n",
    "# Add the numbers\n",
    "result_add = number1 + number2\n",
    "print(\"Result of addition:\", result_add)\n"
   ]
  },
  {
   "cell_type": "code",
   "execution_count": 6,
   "metadata": {
    "tags": []
   },
   "outputs": [
    {
     "name": "stdout",
     "output_type": "stream",
     "text": [
      "150 minutes is equal to 2.5 hours.\n"
     ]
    }
   ],
   "source": [
    "# Define the number of minutes\n",
    "minutes = 150\n",
    "\n",
    "# Convert minutes to hours\n",
    "hours = minutes / 60\n",
    "\n",
    "# Print the result\n",
    "print(minutes, \"minutes is equal to\", hours, \"hours.\")\n"
   ]
  },
  {
   "cell_type": "markdown",
   "metadata": {
    "tags": []
   },
   "source": [
    "## Objectives\n",
    "\n",
    "In this notebook, we aim to achieve the following objectives:\n",
    "\n",
    "1. **Introduction to Data Science Tools**: Provide an overview of popular tools used in the field of data science for data analysis, visualization, and machine learning.\n",
    "\n",
    "2. **Arithmetic Expression Examples**: Present examples of basic arithmetic expressions involving addition, subtraction, multiplication, division, and the use of parentheses.\n",
    "\n",
    "3. **Demonstration of Arithmetic Operations in Python**: Showcase how arithmetic operations such as multiplication and addition can be performed using Python code.\n",
    "\n",
    "4. **Conversion of Minutes to Hours**: Illustrate how to convert minutes into hours using Python.\n",
    "\n",
    "These objectives serve as a guide to understand fundamental concepts in data science and arithmetic operations, along with practical implementations using Python programming.\n"
   ]
  },
  {
   "cell_type": "markdown",
   "metadata": {
    "tags": []
   },
   "source": [
    "## Author\n",
    "\n",
    "This notebook was authored by Bozuesen.\n"
   ]
  },
  {
   "cell_type": "code",
   "execution_count": null,
   "metadata": {},
   "outputs": [],
   "source": []
  }
 ],
 "metadata": {
  "kernelspec": {
   "display_name": "Python",
   "language": "python",
   "name": "conda-env-python-py"
  },
  "language_info": {
   "codemirror_mode": {
    "name": "ipython",
    "version": 3
   },
   "file_extension": ".py",
   "mimetype": "text/x-python",
   "name": "python",
   "nbconvert_exporter": "python",
   "pygments_lexer": "ipython3",
   "version": "3.7.12"
  }
 },
 "nbformat": 4,
 "nbformat_minor": 4
}
